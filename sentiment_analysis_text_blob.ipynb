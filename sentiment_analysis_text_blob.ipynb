{
 "cells": [
  {
   "cell_type": "code",
   "execution_count": 8,
   "metadata": {},
   "outputs": [],
   "source": [
    "import nltk"
   ]
  },
  {
   "cell_type": "code",
   "execution_count": 9,
   "metadata": {},
   "outputs": [],
   "source": [
    " from textblob import TextBlob"
   ]
  },
  {
   "cell_type": "code",
   "execution_count": null,
   "metadata": {},
   "outputs": [],
   "source": []
  },
  {
   "cell_type": "code",
   "execution_count": 33,
   "metadata": {},
   "outputs": [],
   "source": [
    "import numpy as np\n",
    "import re\n",
    "import pickle\n",
    "import nltk\n",
    "from nltk.corpus import stopwords\n",
    "import pandas as pd\n",
    "#nltk.download('stopwords')\n",
    "\n",
    "dataset= pd.read_csv('Dataset_final.csv')\n",
    "x=dataset.User\n",
    "y=dataset.U_Sentiment\n",
    "\n",
    "\n",
    "corpus=[]\n",
    "for i in range(0,len(x)):\n",
    "    temp=re.sub(r'\\W',' ',str(x[i]))\n",
    "    temp= temp.lower()\n",
    "    temp =re.sub(r'\\s+[a-z]\\s+',' ',temp)\n",
    "    temp=re.sub(r'^[a-z]\\s+',' ',temp)\n",
    "    temp=re.sub(r'\\s+',' ',temp)\n",
    "    corpus.append(temp)\n",
    "        "
   ]
  },
  {
   "cell_type": "code",
   "execution_count": 24,
   "metadata": {},
   "outputs": [
    {
     "data": {
      "text/plain": [
       "0                                                       1\n",
       "1                  hi,can you help me in buying a phone ?\n",
       "2         it should have good camera and battery capacity\n",
       "3                                how much does it cost ? \n",
       "4                                   what is it's color ? \n",
       "5                          oh , is it possible in black? \n",
       "6                                        but I like black\n",
       "7                                    what is it's cost ? \n",
       "8                          ok can you book Redmi A for me\n",
       "9                                         Thanks for help\n",
       "10                                                      2\n",
       "11                          hi, I want to buy a new phone\n",
       "12        It should have OS android and dual sim features\n",
       "13                                      what is its cost?\n",
       "14                                      what color is it?\n",
       "15              Oh, is it possible to get in white color?\n",
       "16                            but I would prefer in white\n",
       "17                                      what's the price?\n",
       "18                        Okay, I will book Oppo AA model\n",
       "19                                          Thanks a lot \n",
       "20                                                      3\n",
       "21                     Hey, I am looking for a good phone\n",
       "22      It should be touch phone with good memory and ...\n",
       "23                                     What is the price?\n",
       "24                                   Does it has DualSim?\n",
       "25                              Is it new released phone?\n",
       "26                                        What is its OS?\n",
       "27      Oh it is not good for me.I want Android Operat...\n",
       "28      But I am comfortable with Android Operating phone\n",
       "29                                      What is the cost?\n",
       "                              ...                        \n",
       "4669                         Okay, I am taking this phone\n",
       "4670                                         thanks a ton\n",
       "4671                                                  498\n",
       "4672                          Hey, I need a phone to buy.\n",
       "4673     I want a 2016 released year phone under 250 Euro\n",
       "4674                what is its secondary camera quality?\n",
       "4675    That is too less.I want 13 MP  for secondary c...\n",
       "4676       I believe higher MP phone takes better picture\n",
       "4677                                    what is its cost?\n",
       "4678                        Okay, I will take this phone.\n",
       "4679           You are a very good salesman. Thanks a lot\n",
       "4680                                                  499\n",
       "4681                           I want to buy a good phone\n",
       "4682           I want to buy HP phone with radio facility\n",
       "4683                         I also want a dualsim phone.\n",
       "4684                                       What is its OS\n",
       "4685            oh I want Mic phone. I don't want android\n",
       "4686                           Mic phone has good reviews\n",
       "4687           What color is it available in your store/?\n",
       "4688                        Okay, I will book black phone\n",
       "4689                                        Thanks a lot.\n",
       "4690                                                  500\n",
       "4691                               Hi,I need a phone info\n",
       "4692                    I am looking for a Samsung mobile\n",
       "4693                                   What is its price?\n",
       "4694    It's way to expensive. Show me a phone at less...\n",
       "4695      I can't afford it. Show me less expensive phone\n",
       "4696                            Lovely, what is its cost?\n",
       "4697                                      Book it for me.\n",
       "4698                                          Thanks dear\n",
       "Name: User, Length: 4699, dtype: object"
      ]
     },
     "execution_count": 24,
     "metadata": {},
     "output_type": "execute_result"
    }
   ],
   "source": []
  },
  {
   "cell_type": "code",
   "execution_count": null,
   "metadata": {},
   "outputs": [],
   "source": [
    "p=[]\n",
    "ll=\" \"\n",
    "for i in range(1,len(x)):\n",
    "    if not x[i].isdigit():\n",
    "        ll=ll.join(x[i])\n",
    "        print(ll)\n",
    "        \n",
    "\n",
    "    "
   ]
  },
  {
   "cell_type": "code",
   "execution_count": 25,
   "metadata": {},
   "outputs": [
    {
     "ename": "TypeError",
     "evalue": "The `text` argument passed to `__init__(text)` must be a string, not <class 'list'>",
     "output_type": "error",
     "traceback": [
      "\u001b[1;31m---------------------------------------------------------------------------\u001b[0m",
      "\u001b[1;31mTypeError\u001b[0m                                 Traceback (most recent call last)",
      "\u001b[1;32m<ipython-input-25-b39141a6b360>\u001b[0m in \u001b[0;36m<module>\u001b[1;34m\u001b[0m\n\u001b[0;32m      1\u001b[0m \u001b[0mp\u001b[0m\u001b[1;33m=\u001b[0m\u001b[1;33m[\u001b[0m\u001b[1;34m\"Textblob is amazingly simple to use. What great fun!\"\u001b[0m\u001b[1;33m]\u001b[0m\u001b[1;33m\u001b[0m\u001b[1;33m\u001b[0m\u001b[0m\n\u001b[1;32m----> 2\u001b[1;33m \u001b[0mtestimonial\u001b[0m \u001b[1;33m=\u001b[0m \u001b[0mTextBlob\u001b[0m\u001b[1;33m(\u001b[0m\u001b[0mp\u001b[0m\u001b[1;33m)\u001b[0m\u001b[1;33m\u001b[0m\u001b[1;33m\u001b[0m\u001b[0m\n\u001b[0m",
      "\u001b[1;32m~\\Anaconda3\\lib\\site-packages\\textblob\\blob.py\u001b[0m in \u001b[0;36m__init__\u001b[1;34m(self, text, tokenizer, pos_tagger, np_extractor, analyzer, parser, classifier, clean_html)\u001b[0m\n\u001b[0;32m    368\u001b[0m         \u001b[1;32mif\u001b[0m \u001b[1;32mnot\u001b[0m \u001b[0misinstance\u001b[0m\u001b[1;33m(\u001b[0m\u001b[0mtext\u001b[0m\u001b[1;33m,\u001b[0m \u001b[0mbasestring\u001b[0m\u001b[1;33m)\u001b[0m\u001b[1;33m:\u001b[0m\u001b[1;33m\u001b[0m\u001b[1;33m\u001b[0m\u001b[0m\n\u001b[0;32m    369\u001b[0m             raise TypeError('The `text` argument passed to `__init__(text)` '\n\u001b[1;32m--> 370\u001b[1;33m                             'must be a string, not {0}'.format(type(text)))\n\u001b[0m\u001b[0;32m    371\u001b[0m         \u001b[1;32mif\u001b[0m \u001b[0mclean_html\u001b[0m\u001b[1;33m:\u001b[0m\u001b[1;33m\u001b[0m\u001b[1;33m\u001b[0m\u001b[0m\n\u001b[0;32m    372\u001b[0m             raise NotImplementedError(\"clean_html has been deprecated. \"\n",
      "\u001b[1;31mTypeError\u001b[0m: The `text` argument passed to `__init__(text)` must be a string, not <class 'list'>"
     ]
    }
   ],
   "source": []
  },
  {
   "cell_type": "code",
   "execution_count": null,
   "metadata": {},
   "outputs": [],
   "source": []
  }
 ],
 "metadata": {
  "kernelspec": {
   "display_name": "Python 3",
   "language": "python",
   "name": "python3"
  },
  "language_info": {
   "codemirror_mode": {
    "name": "ipython",
    "version": 3
   },
   "file_extension": ".py",
   "mimetype": "text/x-python",
   "name": "python",
   "nbconvert_exporter": "python",
   "pygments_lexer": "ipython3",
   "version": "3.7.3"
  }
 },
 "nbformat": 4,
 "nbformat_minor": 2
}
